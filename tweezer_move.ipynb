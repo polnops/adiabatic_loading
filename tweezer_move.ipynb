{
  "nbformat": 4,
  "nbformat_minor": 0,
  "metadata": {
    "colab": {
      "name": "tweezer_move.ipynb",
      "provenance": [],
      "collapsed_sections": [],
      "authorship_tag": "ABX9TyMkUmiKeHn6Xg05ssiw+auZ",
      "include_colab_link": true
    },
    "kernelspec": {
      "name": "python3",
      "display_name": "Python 3"
    }
  },
  "cells": [
    {
      "cell_type": "markdown",
      "metadata": {
        "id": "view-in-github",
        "colab_type": "text"
      },
      "source": [
        "<a href=\"https://colab.research.google.com/github/polnops/adiabatic_loading/blob/master/tweezer_move.ipynb\" target=\"_parent\"><img src=\"https://colab.research.google.com/assets/colab-badge.svg\" alt=\"Open In Colab\"/></a>"
      ]
    },
    {
      "cell_type": "code",
      "metadata": {
        "id": "QyKp6M0bfzaE",
        "colab_type": "code",
        "colab": {
          "base_uri": "https://localhost:8080/",
          "height": 122
        },
        "outputId": "c63d5f2f-d16e-4c44-f4bc-558bd0a2f9f3"
      },
      "source": [
        "import os\n",
        "import itertools\n",
        "import numpy as np\n",
        "\n",
        "import matplotlib.animation as animation\n",
        "import matplotlib.pyplot as plt\n",
        "\n",
        "from scipy.integrate import odeint\n",
        "from google.colab import drive\n",
        "from matplotlib import cycler\n",
        "\n",
        "drive.mount('/content/gdrive')\n",
        "\n",
        "plt.style.use('classic')\n",
        "%matplotlib inline\n",
        "\n",
        "IPython_default = plt.rcParams.copy()\n",
        "colors = cycler('color',\n",
        "                ['#EE6666', '#3388BB', '#9988DD',\n",
        "                 '#EECC55', '#88BB44', '#FFBBBB'])\n",
        "plt.rc('axes', facecolor='#E6E6E6', edgecolor='none', \n",
        "       labelcolor='white', labelsize = 12,\n",
        "       axisbelow=True, prop_cycle=colors)\n",
        "       \n",
        "plt.rc('grid', color='w', linestyle='solid')\n",
        "plt.rc('xtick', direction='out', color='white')\n",
        "plt.rc('ytick', direction='out', color='white')\n",
        "plt.rc('patch', edgecolor='#E6E6E6')\n",
        "plt.rc('lines', linewidth=2)"
      ],
      "execution_count": 26,
      "outputs": [
        {
          "output_type": "stream",
          "text": [
            "Go to this URL in a browser: https://accounts.google.com/o/oauth2/auth?client_id=947318989803-6bn6qk8qdgf4n4g3pfee6491hc0brc4i.apps.googleusercontent.com&redirect_uri=urn%3aietf%3awg%3aoauth%3a2.0%3aoob&response_type=code&scope=email%20https%3a%2f%2fwww.googleapis.com%2fauth%2fdocs.test%20https%3a%2f%2fwww.googleapis.com%2fauth%2fdrive%20https%3a%2f%2fwww.googleapis.com%2fauth%2fdrive.photos.readonly%20https%3a%2f%2fwww.googleapis.com%2fauth%2fpeopleapi.readonly\n",
            "\n",
            "Enter your authorization code:\n",
            "··········\n",
            "Mounted at /content/gdrive\n"
          ],
          "name": "stdout"
        }
      ]
    },
    {
      "cell_type": "code",
      "metadata": {
        "id": "sPzV3fu0f2no",
        "colab_type": "code",
        "colab": {}
      },
      "source": [
        "class Dynamics1D(object):\n",
        "    '''solves ODE for the dynamics of a single particle in a time-varing potential'''\n",
        "\n",
        "    def __init__(self, n = int(5e3), t_len = 40, V0 = 200):\n",
        "        \n",
        "        self.n     = n\n",
        "        self.t     = np.linspace(-t_len, t_len, n)      \n",
        "        self.x     = np.empty_like(self.t)\n",
        "        self.p     = np.empty_like(self.t)   \n",
        "        self.V0    = V0\n",
        "       \n",
        "    \n",
        "    def _rampOmega(self):\n",
        "        self.omega = (self.omega_i + self.omega_f)/2.0 \\\n",
        "              - (self.omega_i - self.omega_f)/2.0* \\\n",
        "             np.arctan(self.t/self.tau)/(np.pi/2.0)  \n",
        "\n",
        "    def _rampCenter(self):\n",
        "        self.x0 = (self.x0_i + self.x0_f)/2.0 \\\n",
        "              - (self.x0_i - self.x0_f)/2.0* \\\n",
        "             np.arctan(self.t/self.tau)/(np.pi/2.0)  \n",
        "\n",
        "    def V_trap(self, omega, x0, x):\n",
        "        return -self.V0*np.exp(-(omega*(x-x0))**2)\n",
        " \n",
        "\n",
        "    def dV_trap(self, omega, x0, x):\n",
        "        return self.V0*2*(omega**2)*(x-x0)*np.exp(-(omega*(x-x0))**2)\n",
        "\n",
        "\n",
        "    def _model(self, z, t, omega, x0):\n",
        "        x, p = z\n",
        "        dxdt = p\n",
        "        dpdt = -self.dV_trap(omega,x0,x)\n",
        "        return [dxdt, dpdt]\n",
        "\n",
        "    def solveODE(self, omega_i = 1, omega_f = 1, \n",
        "                 tau = 10, z0 = [0, 0.25], \n",
        "                 x0_i = 0, x0_f = 1):\n",
        "        \n",
        "        self.x[0], self.p[0] = z0\n",
        "        self.omega_i = omega_i\n",
        "        self.omega_f = omega_f\n",
        "        self.x0_i = x0_i\n",
        "        self.x0_f = x0_f\n",
        "        self.tau     = tau\n",
        "        self._rampOmega()\n",
        "        self._rampCenter()\n",
        "        for i in range(1, self.n):\n",
        "            tspan = [self.t[i-1], self.t[i]]\n",
        "            z     = odeint(self._model, z0, tspan, args=(self.omega[i],self.x0[i]))\n",
        "            self.x[i] = z[1][0]\n",
        "            self.p[i] = z[1][1]\n",
        "            z0        = z[1]\n",
        "\n",
        "    def plot_xtrack(self):\n",
        "\n",
        "        plt.figure(figsize=(15,2))\n",
        "        plt.plot(self.t,self.x,label='atom')\n",
        "        plt.plot(self.t,self.x0,'--',label='trap')\n",
        "        plt.ylabel('position')\n",
        "        plt.xlabel('time')\n",
        "        plt.legend(loc='best')\n",
        "        plt.show()\n",
        "\n",
        "    def energy(self):\n",
        "        self.KE       = 0.5*(self.p)**2\n",
        "        self.PE       = self.V_trap(self.omega,self.x0,self.x)\n",
        "        self.E_total  = self.KE + self.PE\n",
        "        self.loss     = (self.E_total[-1] >= 0)\n",
        "\n",
        "    def plotEnergy(self):\n",
        "        self.energy()\n",
        "        plt.figure(figsize=(10,2))\n",
        "        plt.plot(self.t,self.KE ,label='K.E')\n",
        "        plt.plot(self.t,self.PE,label='P.E')\n",
        "        plt.plot(self.t,self.E_total,label='total',lw=4)\n",
        "        plt.ylabel('energy')\n",
        "        plt.xlabel('time')\n",
        "        plt.legend(loc='best')\n",
        "        plt.show()\n",
        "        \n",
        "    def plot_animation(self, savepath = 'adia1d.mp4'):\n",
        "    \n",
        "        width = 3\n",
        "        fig = plt.figure()       \n",
        "        ylim=(-self.V0, 0.25)\n",
        "\n",
        "        ax = plt.axes(xlim=(-width, width), ylim=(-1.5, 0.25))\n",
        "        line, = ax.plot([], [], lw=3)\n",
        "        line2, = ax.plot([], [], marker='o',linestyle='None',markersize=12)\n",
        "\n",
        "        def animate(i):\n",
        "\n",
        "            xplot = np.linspace(-width,width,100)\n",
        "            line.set_data(xplot, self.V_trap(self.omega[i],self.x0[i],xplot))\n",
        "            line2.set_data(self.x[i], self.V_trap(self.omega[i],self.x0[i],self.x[i]))\n",
        "            return line, line2\n",
        "\n",
        "        anim = animation.FuncAnimation(fig, animate, frames=self.n, \n",
        "                                        interval=20, blit=True)\n",
        "        anim.save(savepath)\n",
        "\n",
        "        plt.show()"
      ],
      "execution_count": 67,
      "outputs": []
    },
    {
      "cell_type": "code",
      "metadata": {
        "id": "VQEMIWCqf4Sz",
        "colab_type": "code",
        "colab": {
          "base_uri": "https://localhost:8080/",
          "height": 183
        },
        "outputId": "41ae1614-c0fe-4fdb-e4ec-210ff51206ad"
      },
      "source": [
        "h1d = Dynamics1D(V0 = 200)\n",
        "h1d.solveODE(x0_i = 0, x0_f = 20,tau = .198, z0 = [0,0])\n",
        "#h1d.plot_xp()\n",
        "#h1d.plotEnergy()\n",
        "h1d.plot_xtrack()"
      ],
      "execution_count": 72,
      "outputs": [
        {
          "output_type": "display_data",
          "data": {
            "image/png": "[encoded data removed]",
            "text/plain": [
              "<Figure size 1080x144 with 1 Axes>"
            ]
          },
          "metadata": {
            "tags": [],
            "needs_background": "dark"
          }
        }
      ]
    },
    {
      "cell_type": "code",
      "metadata": {
        "id": "AXRrkfI3hVX6",
        "colab_type": "code",
        "colab": {}
      },
      "source": [
        "path = '/content/gdrive/My Drive/Atom_cavity/personal folders/Po/adiabatic_cooling'\n",
        "os.chdir(path)\n",
        "h1d.plot_animation(savepath = 'movefast.mp4')"
      ],
      "execution_count": null,
      "outputs": []
    },
    {
      "cell_type": "code",
      "metadata": {
        "id": "c9_TK8iwiW22",
        "colab_type": "code",
        "colab": {}
      },
      "source": [
        ""
      ],
      "execution_count": null,
      "outputs": []
    }
  ]
}
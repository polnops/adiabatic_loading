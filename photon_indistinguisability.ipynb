{
  "nbformat": 4,
  "nbformat_minor": 0,
  "metadata": {
    "colab": {
      "name": "photon-indistinguisability.ipynb",
      "provenance": [],
      "collapsed_sections": [],
      "authorship_tag": "ABX9TyOYYqyJMD7YuYmp6jxC1Gxg",
      "include_colab_link": true
    },
    "kernelspec": {
      "name": "python3",
      "display_name": "Python 3"
    },
    "language_info": {
      "name": "python"
    }
  },
  "cells": [
    {
      "cell_type": "markdown",
      "metadata": {
        "id": "view-in-github",
        "colab_type": "text"
      },
      "source": [
        "<a href=\"https://colab.research.google.com/github/polnops/adiabatic_loading/blob/master/photon_indistinguisability.ipynb\" target=\"_parent\"><img src=\"https://colab.research.google.com/assets/colab-badge.svg\" alt=\"Open In Colab\"/></a>"
      ]
    },
    {
      "cell_type": "code",
      "execution_count": 1,
      "metadata": {
        "colab": {
          "base_uri": "https://localhost:8080/"
        },
        "id": "T33m9pFYgBUy",
        "outputId": "d6691d6e-dce3-4afe-e653-6f9741777fed"
      },
      "outputs": [
        {
          "output_type": "stream",
          "name": "stdout",
          "text": [
            "Detection probability per pulse: 0.0009450000000000001\n",
            "Single-channel count rate: 13125.0 Hz\n",
            "Coincidence rate: 0.0172265625 Hz\n",
            "Coincidence rate in \"HOM window\": 7.615812706545772e-05 Hz\n"
          ]
        }
      ],
      "source": [
        "import numpy as np\n",
        "rep_rate      = 1E9#(np.pi)*4E6   #experiment repetition rate. How frequently we pulse.\n",
        "eta_ZPL       = 0.15  #Debye-Waller: 0.15 for G-centers, 0.25 for SD-2\n",
        "eta_waveguide = 0.3   #coupling efficiency to the waveguide. Not calculated.\n",
        "eta_fiber     = 0.3   #waveguide-fiber coupling efficiency. Some preliminary data, but not reliably reproduced\n",
        "eta_detector  = 0.4   #lower bound 1280 nm with pol. ctrl\n",
        "eta_freespacefilter = 0.7 #needs update from Milena's setup\n",
        "eta_MZI       = 0.5**2\n",
        "dark_count_rate = 400 #cps\n",
        "\n",
        "#what is the total linewidth of the emitters? Is the HOM effect even visible if the linewidth is this broad? This depends on the timing jitter of the detector. \n",
        "#big error bars on this number\n",
        "linewidth     = 1E9\n",
        "lifetime_linewidth  = 1/(2*np.pi*36E-9)  \n",
        "t_window      = 100e-12\n",
        "\n",
        "#detection efficiency per pulse, assuming we can excite with unit efficiency\n",
        "Detection_per_pulse = eta_ZPL*eta_waveguide*eta_freespacefilter*eta_fiber*eta_detector*eta_MZI\n",
        "print('Detection probability per pulse:', Detection_per_pulse)\n",
        "\n",
        "Count_rate = Detection_per_pulse*np.pi*lifetime_linewidth\n",
        "print('Single-channel count rate:', Count_rate, 'Hz')\n",
        "\n",
        "#the time delayed approach will result in a reduced coincidence rate for overlapping wavepackets. \n",
        "\n",
        "TimeDelayedCoincidence = t_window*Count_rate**2\n",
        "# rep_rate*(Detection_per_pulse*1/2)**2. moved 1/2 to MZI, it's actually ~t^3r, etc. \n",
        "print('Coincidence rate:', TimeDelayedCoincidence, 'Hz')\n",
        "\n",
        "# Dark_Coincidence = t_window*Count_rate**2\n",
        "# print('Coincidence rate:', Coincidence, 'Hz')\n",
        "\n",
        "#only a subset of the interfering photons will be in the HOM window. This is the relevant rate\n",
        "IndistinguishableCoincidence = TimeDelayedCoincidence*lifetime_linewidth/linewidth\n",
        "print('Coincidence rate in \"HOM window\":', IndistinguishableCoincidence, 'Hz')\n",
        "\n",
        "#what is the dark count rate? what is the effect of detector timing jitter? \n",
        "#Read the details of prior experiments.\n",
        "#how long do we need to acquire for high SNR. "
      ]
    },
    {
      "cell_type": "code",
      "source": [
        ""
      ],
      "metadata": {
        "id": "VwaCrk8GHHZ-"
      },
      "execution_count": null,
      "outputs": []
    }
  ]
}